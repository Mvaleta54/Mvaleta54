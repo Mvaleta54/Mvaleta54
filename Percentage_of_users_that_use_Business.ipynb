{
  "nbformat": 4,
  "nbformat_minor": 0,
  "metadata": {
    "kernelspec": {
      "display_name": "Python 3",
      "language": "python",
      "name": "python3"
    },
    "language_info": {
      "codemirror_mode": {
        "name": "ipython",
        "version": 3
      },
      "file_extension": ".py",
      "mimetype": "text/x-python",
      "name": "python",
      "nbconvert_exporter": "python",
      "pygments_lexer": "ipython3",
      "version": "3.9.2"
    },
    "colab": {
      "name": "Percentage of users that use Business.ipynb",
      "provenance": [],
      "collapsed_sections": [
        "6NMDjjv9QBn1",
        "gZF3ZNZKQBn2",
        "SFQ1lvr7QBn4",
        "lXfstFvsQBn5",
        "6gCNp9NfQBn6"
      ],
      "include_colab_link": true
    }
  },
  "cells": [
    {
      "cell_type": "markdown",
      "metadata": {
        "id": "view-in-github",
        "colab_type": "text"
      },
      "source": [
        "<a href=\"https://colab.research.google.com/github/Mvaleta54/Mvaleta54/blob/main/Percentage_of_users_that_use_Business.ipynb\" target=\"_parent\"><img src=\"https://colab.research.google.com/assets/colab-badge.svg\" alt=\"Open In Colab\"/></a>"
      ]
    },
    {
      "cell_type": "markdown",
      "metadata": {
        "id": "NDx2Bmm4CnVP"
      },
      "source": [
        "##What is a percentage of our user's that travel for business purposes?"
      ]
    },
    {
      "cell_type": "markdown",
      "metadata": {
        "id": "6NMDjjv9QBn1"
      },
      "source": [
        "### Load the data"
      ]
    },
    {
      "cell_type": "code",
      "metadata": {
        "id": "lKPyW7T6QBn1"
      },
      "source": [
        "import pandas as pd"
      ],
      "execution_count": 1,
      "outputs": []
    },
    {
      "cell_type": "code",
      "metadata": {
        "id": "OunWv6r_QBn2",
        "colab": {
          "base_uri": "https://localhost:8080/",
          "height": 423
        },
        "outputId": "55dd03e6-005f-4418-d0d9-43d6250b5cef"
      },
      "source": [
        "df = pd.read_csv('https://s3.eu-west-1.amazonaws.com/data.public.bdatainstitute.com/dam/python/booking.csv')\n",
        "df"
      ],
      "execution_count": 2,
      "outputs": [
        {
          "output_type": "execute_result",
          "data": {
            "text/plain": [
              "            event_timestamp event_name visit_id  user_id      type  hotel_id\n",
              "0       2019-01-04 00:06:35    booking  01973ce   393224   leisure      3888\n",
              "1       2019-01-04 00:05:04    booking  060ba0b    85204   leisure      6283\n",
              "2       2019-01-04 00:12:10    booking  030b1d5   141511   leisure      3273\n",
              "3       2019-01-04 00:11:00    booking  0671f01   352800   leisure      3810\n",
              "4       2019-01-04 00:17:39    booking  074b640   405479   leisure       331\n",
              "...                     ...        ...      ...      ...       ...       ...\n",
              "229741  2019-12-30 23:49:51    booking  0567a1c   482812   leisure      2932\n",
              "229742  2019-12-30 23:48:06    booking  0427615   242892   leisure      5143\n",
              "229743  2019-12-30 23:52:05    booking  02d8710   294790   leisure      3289\n",
              "229744  2019-12-30 23:53:32    booking  04b7afd   365680   leisure      5279\n",
              "229745  2019-12-31 00:03:34    booking  01c4cc3   333049  business      1440\n",
              "\n",
              "[229746 rows x 6 columns]"
            ],
            "text/html": [
              "\n",
              "  <div id=\"df-5af1010d-b6a8-4616-8ab5-7182eec78791\">\n",
              "    <div class=\"colab-df-container\">\n",
              "      <div>\n",
              "<style scoped>\n",
              "    .dataframe tbody tr th:only-of-type {\n",
              "        vertical-align: middle;\n",
              "    }\n",
              "\n",
              "    .dataframe tbody tr th {\n",
              "        vertical-align: top;\n",
              "    }\n",
              "\n",
              "    .dataframe thead th {\n",
              "        text-align: right;\n",
              "    }\n",
              "</style>\n",
              "<table border=\"1\" class=\"dataframe\">\n",
              "  <thead>\n",
              "    <tr style=\"text-align: right;\">\n",
              "      <th></th>\n",
              "      <th>event_timestamp</th>\n",
              "      <th>event_name</th>\n",
              "      <th>visit_id</th>\n",
              "      <th>user_id</th>\n",
              "      <th>type</th>\n",
              "      <th>hotel_id</th>\n",
              "    </tr>\n",
              "  </thead>\n",
              "  <tbody>\n",
              "    <tr>\n",
              "      <th>0</th>\n",
              "      <td>2019-01-04 00:06:35</td>\n",
              "      <td>booking</td>\n",
              "      <td>01973ce</td>\n",
              "      <td>393224</td>\n",
              "      <td>leisure</td>\n",
              "      <td>3888</td>\n",
              "    </tr>\n",
              "    <tr>\n",
              "      <th>1</th>\n",
              "      <td>2019-01-04 00:05:04</td>\n",
              "      <td>booking</td>\n",
              "      <td>060ba0b</td>\n",
              "      <td>85204</td>\n",
              "      <td>leisure</td>\n",
              "      <td>6283</td>\n",
              "    </tr>\n",
              "    <tr>\n",
              "      <th>2</th>\n",
              "      <td>2019-01-04 00:12:10</td>\n",
              "      <td>booking</td>\n",
              "      <td>030b1d5</td>\n",
              "      <td>141511</td>\n",
              "      <td>leisure</td>\n",
              "      <td>3273</td>\n",
              "    </tr>\n",
              "    <tr>\n",
              "      <th>3</th>\n",
              "      <td>2019-01-04 00:11:00</td>\n",
              "      <td>booking</td>\n",
              "      <td>0671f01</td>\n",
              "      <td>352800</td>\n",
              "      <td>leisure</td>\n",
              "      <td>3810</td>\n",
              "    </tr>\n",
              "    <tr>\n",
              "      <th>4</th>\n",
              "      <td>2019-01-04 00:17:39</td>\n",
              "      <td>booking</td>\n",
              "      <td>074b640</td>\n",
              "      <td>405479</td>\n",
              "      <td>leisure</td>\n",
              "      <td>331</td>\n",
              "    </tr>\n",
              "    <tr>\n",
              "      <th>...</th>\n",
              "      <td>...</td>\n",
              "      <td>...</td>\n",
              "      <td>...</td>\n",
              "      <td>...</td>\n",
              "      <td>...</td>\n",
              "      <td>...</td>\n",
              "    </tr>\n",
              "    <tr>\n",
              "      <th>229741</th>\n",
              "      <td>2019-12-30 23:49:51</td>\n",
              "      <td>booking</td>\n",
              "      <td>0567a1c</td>\n",
              "      <td>482812</td>\n",
              "      <td>leisure</td>\n",
              "      <td>2932</td>\n",
              "    </tr>\n",
              "    <tr>\n",
              "      <th>229742</th>\n",
              "      <td>2019-12-30 23:48:06</td>\n",
              "      <td>booking</td>\n",
              "      <td>0427615</td>\n",
              "      <td>242892</td>\n",
              "      <td>leisure</td>\n",
              "      <td>5143</td>\n",
              "    </tr>\n",
              "    <tr>\n",
              "      <th>229743</th>\n",
              "      <td>2019-12-30 23:52:05</td>\n",
              "      <td>booking</td>\n",
              "      <td>02d8710</td>\n",
              "      <td>294790</td>\n",
              "      <td>leisure</td>\n",
              "      <td>3289</td>\n",
              "    </tr>\n",
              "    <tr>\n",
              "      <th>229744</th>\n",
              "      <td>2019-12-30 23:53:32</td>\n",
              "      <td>booking</td>\n",
              "      <td>04b7afd</td>\n",
              "      <td>365680</td>\n",
              "      <td>leisure</td>\n",
              "      <td>5279</td>\n",
              "    </tr>\n",
              "    <tr>\n",
              "      <th>229745</th>\n",
              "      <td>2019-12-31 00:03:34</td>\n",
              "      <td>booking</td>\n",
              "      <td>01c4cc3</td>\n",
              "      <td>333049</td>\n",
              "      <td>business</td>\n",
              "      <td>1440</td>\n",
              "    </tr>\n",
              "  </tbody>\n",
              "</table>\n",
              "<p>229746 rows × 6 columns</p>\n",
              "</div>\n",
              "      <button class=\"colab-df-convert\" onclick=\"convertToInteractive('df-5af1010d-b6a8-4616-8ab5-7182eec78791')\"\n",
              "              title=\"Convert this dataframe to an interactive table.\"\n",
              "              style=\"display:none;\">\n",
              "        \n",
              "  <svg xmlns=\"http://www.w3.org/2000/svg\" height=\"24px\"viewBox=\"0 0 24 24\"\n",
              "       width=\"24px\">\n",
              "    <path d=\"M0 0h24v24H0V0z\" fill=\"none\"/>\n",
              "    <path d=\"M18.56 5.44l.94 2.06.94-2.06 2.06-.94-2.06-.94-.94-2.06-.94 2.06-2.06.94zm-11 1L8.5 8.5l.94-2.06 2.06-.94-2.06-.94L8.5 2.5l-.94 2.06-2.06.94zm10 10l.94 2.06.94-2.06 2.06-.94-2.06-.94-.94-2.06-.94 2.06-2.06.94z\"/><path d=\"M17.41 7.96l-1.37-1.37c-.4-.4-.92-.59-1.43-.59-.52 0-1.04.2-1.43.59L10.3 9.45l-7.72 7.72c-.78.78-.78 2.05 0 2.83L4 21.41c.39.39.9.59 1.41.59.51 0 1.02-.2 1.41-.59l7.78-7.78 2.81-2.81c.8-.78.8-2.07 0-2.86zM5.41 20L4 18.59l7.72-7.72 1.47 1.35L5.41 20z\"/>\n",
              "  </svg>\n",
              "      </button>\n",
              "      \n",
              "  <style>\n",
              "    .colab-df-container {\n",
              "      display:flex;\n",
              "      flex-wrap:wrap;\n",
              "      gap: 12px;\n",
              "    }\n",
              "\n",
              "    .colab-df-convert {\n",
              "      background-color: #E8F0FE;\n",
              "      border: none;\n",
              "      border-radius: 50%;\n",
              "      cursor: pointer;\n",
              "      display: none;\n",
              "      fill: #1967D2;\n",
              "      height: 32px;\n",
              "      padding: 0 0 0 0;\n",
              "      width: 32px;\n",
              "    }\n",
              "\n",
              "    .colab-df-convert:hover {\n",
              "      background-color: #E2EBFA;\n",
              "      box-shadow: 0px 1px 2px rgba(60, 64, 67, 0.3), 0px 1px 3px 1px rgba(60, 64, 67, 0.15);\n",
              "      fill: #174EA6;\n",
              "    }\n",
              "\n",
              "    [theme=dark] .colab-df-convert {\n",
              "      background-color: #3B4455;\n",
              "      fill: #D2E3FC;\n",
              "    }\n",
              "\n",
              "    [theme=dark] .colab-df-convert:hover {\n",
              "      background-color: #434B5C;\n",
              "      box-shadow: 0px 1px 3px 1px rgba(0, 0, 0, 0.15);\n",
              "      filter: drop-shadow(0px 1px 2px rgba(0, 0, 0, 0.3));\n",
              "      fill: #FFFFFF;\n",
              "    }\n",
              "  </style>\n",
              "\n",
              "      <script>\n",
              "        const buttonEl =\n",
              "          document.querySelector('#df-5af1010d-b6a8-4616-8ab5-7182eec78791 button.colab-df-convert');\n",
              "        buttonEl.style.display =\n",
              "          google.colab.kernel.accessAllowed ? 'block' : 'none';\n",
              "\n",
              "        async function convertToInteractive(key) {\n",
              "          const element = document.querySelector('#df-5af1010d-b6a8-4616-8ab5-7182eec78791');\n",
              "          const dataTable =\n",
              "            await google.colab.kernel.invokeFunction('convertToInteractive',\n",
              "                                                     [key], {});\n",
              "          if (!dataTable) return;\n",
              "\n",
              "          const docLinkHtml = 'Like what you see? Visit the ' +\n",
              "            '<a target=\"_blank\" href=https://colab.research.google.com/notebooks/data_table.ipynb>data table notebook</a>'\n",
              "            + ' to learn more about interactive tables.';\n",
              "          element.innerHTML = '';\n",
              "          dataTable['output_type'] = 'display_data';\n",
              "          await google.colab.output.renderOutput(dataTable, element);\n",
              "          const docLink = document.createElement('div');\n",
              "          docLink.innerHTML = docLinkHtml;\n",
              "          element.appendChild(docLink);\n",
              "        }\n",
              "      </script>\n",
              "    </div>\n",
              "  </div>\n",
              "  "
            ]
          },
          "metadata": {},
          "execution_count": 2
        }
      ]
    },
    {
      "cell_type": "code",
      "source": [
        "df.info()"
      ],
      "metadata": {
        "colab": {
          "base_uri": "https://localhost:8080/"
        },
        "id": "esAUA9u2eIbY",
        "outputId": "ded5bda1-fc35-48e3-c9d5-3d2d0b6c0384"
      },
      "execution_count": 6,
      "outputs": [
        {
          "output_type": "stream",
          "name": "stdout",
          "text": [
            "<class 'pandas.core.frame.DataFrame'>\n",
            "RangeIndex: 229746 entries, 0 to 229745\n",
            "Data columns (total 6 columns):\n",
            " #   Column           Non-Null Count   Dtype \n",
            "---  ------           --------------   ----- \n",
            " 0   event_timestamp  229746 non-null  object\n",
            " 1   event_name       229746 non-null  object\n",
            " 2   visit_id         229746 non-null  object\n",
            " 3   user_id          229746 non-null  int64 \n",
            " 4   type             229746 non-null  object\n",
            " 5   hotel_id         229746 non-null  int64 \n",
            "dtypes: int64(2), object(4)\n",
            "memory usage: 10.5+ MB\n"
          ]
        }
      ]
    },
    {
      "cell_type": "markdown",
      "metadata": {
        "id": "gZF3ZNZKQBn2"
      },
      "source": [
        "### First approach - Subset"
      ]
    },
    {
      "cell_type": "code",
      "metadata": {
        "id": "k0KqkG6mQBn3",
        "colab": {
          "base_uri": "https://localhost:8080/"
        },
        "outputId": "790e1ae9-5e2b-44ba-d246-effaaca30391"
      },
      "source": [
        "df.type == 'business'"
      ],
      "execution_count": 8,
      "outputs": [
        {
          "output_type": "execute_result",
          "data": {
            "text/plain": [
              "0         False\n",
              "1         False\n",
              "2         False\n",
              "3         False\n",
              "4         False\n",
              "          ...  \n",
              "229741    False\n",
              "229742    False\n",
              "229743    False\n",
              "229744    False\n",
              "229745     True\n",
              "Name: type, Length: 229746, dtype: bool"
            ]
          },
          "metadata": {},
          "execution_count": 8
        }
      ]
    },
    {
      "cell_type": "code",
      "metadata": {
        "id": "qEvu9RGlQBn3",
        "colab": {
          "base_uri": "https://localhost:8080/",
          "height": 423
        },
        "outputId": "d19dd17d-1eba-4b55-c10a-81a817ee56f7"
      },
      "source": [
        "df[df.type == 'business']"
      ],
      "execution_count": 9,
      "outputs": [
        {
          "output_type": "execute_result",
          "data": {
            "text/plain": [
              "            event_timestamp event_name visit_id  user_id      type  hotel_id\n",
              "23      2019-01-04 01:20:00    booking  051de09   197917  business      6363\n",
              "103     2019-01-04 09:54:28    booking  10ea45e   501589  business      5673\n",
              "109     2019-01-04 10:23:41    booking  04b40b8   418723  business       346\n",
              "236     2019-01-04 13:32:14    booking  05c2990   524978  business       275\n",
              "261     2019-01-04 14:09:01    booking  0632139   422527  business      4626\n",
              "...                     ...        ...      ...      ...       ...       ...\n",
              "229606  2019-12-30 18:28:18    booking  0784f1b   397797  business      4917\n",
              "229607  2019-12-30 18:26:55    booking  074a1c5   146944  business      6769\n",
              "229666  2019-12-30 20:13:18    booking  02f251a   220242  business      6962\n",
              "229683  2019-12-30 21:08:29    booking  08b5b04   184488  business      1443\n",
              "229745  2019-12-31 00:03:34    booking  01c4cc3   333049  business      1440\n",
              "\n",
              "[7843 rows x 6 columns]"
            ],
            "text/html": [
              "\n",
              "  <div id=\"df-09c9d8b5-81bf-4b44-a9e9-2d1b468fba43\">\n",
              "    <div class=\"colab-df-container\">\n",
              "      <div>\n",
              "<style scoped>\n",
              "    .dataframe tbody tr th:only-of-type {\n",
              "        vertical-align: middle;\n",
              "    }\n",
              "\n",
              "    .dataframe tbody tr th {\n",
              "        vertical-align: top;\n",
              "    }\n",
              "\n",
              "    .dataframe thead th {\n",
              "        text-align: right;\n",
              "    }\n",
              "</style>\n",
              "<table border=\"1\" class=\"dataframe\">\n",
              "  <thead>\n",
              "    <tr style=\"text-align: right;\">\n",
              "      <th></th>\n",
              "      <th>event_timestamp</th>\n",
              "      <th>event_name</th>\n",
              "      <th>visit_id</th>\n",
              "      <th>user_id</th>\n",
              "      <th>type</th>\n",
              "      <th>hotel_id</th>\n",
              "    </tr>\n",
              "  </thead>\n",
              "  <tbody>\n",
              "    <tr>\n",
              "      <th>23</th>\n",
              "      <td>2019-01-04 01:20:00</td>\n",
              "      <td>booking</td>\n",
              "      <td>051de09</td>\n",
              "      <td>197917</td>\n",
              "      <td>business</td>\n",
              "      <td>6363</td>\n",
              "    </tr>\n",
              "    <tr>\n",
              "      <th>103</th>\n",
              "      <td>2019-01-04 09:54:28</td>\n",
              "      <td>booking</td>\n",
              "      <td>10ea45e</td>\n",
              "      <td>501589</td>\n",
              "      <td>business</td>\n",
              "      <td>5673</td>\n",
              "    </tr>\n",
              "    <tr>\n",
              "      <th>109</th>\n",
              "      <td>2019-01-04 10:23:41</td>\n",
              "      <td>booking</td>\n",
              "      <td>04b40b8</td>\n",
              "      <td>418723</td>\n",
              "      <td>business</td>\n",
              "      <td>346</td>\n",
              "    </tr>\n",
              "    <tr>\n",
              "      <th>236</th>\n",
              "      <td>2019-01-04 13:32:14</td>\n",
              "      <td>booking</td>\n",
              "      <td>05c2990</td>\n",
              "      <td>524978</td>\n",
              "      <td>business</td>\n",
              "      <td>275</td>\n",
              "    </tr>\n",
              "    <tr>\n",
              "      <th>261</th>\n",
              "      <td>2019-01-04 14:09:01</td>\n",
              "      <td>booking</td>\n",
              "      <td>0632139</td>\n",
              "      <td>422527</td>\n",
              "      <td>business</td>\n",
              "      <td>4626</td>\n",
              "    </tr>\n",
              "    <tr>\n",
              "      <th>...</th>\n",
              "      <td>...</td>\n",
              "      <td>...</td>\n",
              "      <td>...</td>\n",
              "      <td>...</td>\n",
              "      <td>...</td>\n",
              "      <td>...</td>\n",
              "    </tr>\n",
              "    <tr>\n",
              "      <th>229606</th>\n",
              "      <td>2019-12-30 18:28:18</td>\n",
              "      <td>booking</td>\n",
              "      <td>0784f1b</td>\n",
              "      <td>397797</td>\n",
              "      <td>business</td>\n",
              "      <td>4917</td>\n",
              "    </tr>\n",
              "    <tr>\n",
              "      <th>229607</th>\n",
              "      <td>2019-12-30 18:26:55</td>\n",
              "      <td>booking</td>\n",
              "      <td>074a1c5</td>\n",
              "      <td>146944</td>\n",
              "      <td>business</td>\n",
              "      <td>6769</td>\n",
              "    </tr>\n",
              "    <tr>\n",
              "      <th>229666</th>\n",
              "      <td>2019-12-30 20:13:18</td>\n",
              "      <td>booking</td>\n",
              "      <td>02f251a</td>\n",
              "      <td>220242</td>\n",
              "      <td>business</td>\n",
              "      <td>6962</td>\n",
              "    </tr>\n",
              "    <tr>\n",
              "      <th>229683</th>\n",
              "      <td>2019-12-30 21:08:29</td>\n",
              "      <td>booking</td>\n",
              "      <td>08b5b04</td>\n",
              "      <td>184488</td>\n",
              "      <td>business</td>\n",
              "      <td>1443</td>\n",
              "    </tr>\n",
              "    <tr>\n",
              "      <th>229745</th>\n",
              "      <td>2019-12-31 00:03:34</td>\n",
              "      <td>booking</td>\n",
              "      <td>01c4cc3</td>\n",
              "      <td>333049</td>\n",
              "      <td>business</td>\n",
              "      <td>1440</td>\n",
              "    </tr>\n",
              "  </tbody>\n",
              "</table>\n",
              "<p>7843 rows × 6 columns</p>\n",
              "</div>\n",
              "      <button class=\"colab-df-convert\" onclick=\"convertToInteractive('df-09c9d8b5-81bf-4b44-a9e9-2d1b468fba43')\"\n",
              "              title=\"Convert this dataframe to an interactive table.\"\n",
              "              style=\"display:none;\">\n",
              "        \n",
              "  <svg xmlns=\"http://www.w3.org/2000/svg\" height=\"24px\"viewBox=\"0 0 24 24\"\n",
              "       width=\"24px\">\n",
              "    <path d=\"M0 0h24v24H0V0z\" fill=\"none\"/>\n",
              "    <path d=\"M18.56 5.44l.94 2.06.94-2.06 2.06-.94-2.06-.94-.94-2.06-.94 2.06-2.06.94zm-11 1L8.5 8.5l.94-2.06 2.06-.94-2.06-.94L8.5 2.5l-.94 2.06-2.06.94zm10 10l.94 2.06.94-2.06 2.06-.94-2.06-.94-.94-2.06-.94 2.06-2.06.94z\"/><path d=\"M17.41 7.96l-1.37-1.37c-.4-.4-.92-.59-1.43-.59-.52 0-1.04.2-1.43.59L10.3 9.45l-7.72 7.72c-.78.78-.78 2.05 0 2.83L4 21.41c.39.39.9.59 1.41.59.51 0 1.02-.2 1.41-.59l7.78-7.78 2.81-2.81c.8-.78.8-2.07 0-2.86zM5.41 20L4 18.59l7.72-7.72 1.47 1.35L5.41 20z\"/>\n",
              "  </svg>\n",
              "      </button>\n",
              "      \n",
              "  <style>\n",
              "    .colab-df-container {\n",
              "      display:flex;\n",
              "      flex-wrap:wrap;\n",
              "      gap: 12px;\n",
              "    }\n",
              "\n",
              "    .colab-df-convert {\n",
              "      background-color: #E8F0FE;\n",
              "      border: none;\n",
              "      border-radius: 50%;\n",
              "      cursor: pointer;\n",
              "      display: none;\n",
              "      fill: #1967D2;\n",
              "      height: 32px;\n",
              "      padding: 0 0 0 0;\n",
              "      width: 32px;\n",
              "    }\n",
              "\n",
              "    .colab-df-convert:hover {\n",
              "      background-color: #E2EBFA;\n",
              "      box-shadow: 0px 1px 2px rgba(60, 64, 67, 0.3), 0px 1px 3px 1px rgba(60, 64, 67, 0.15);\n",
              "      fill: #174EA6;\n",
              "    }\n",
              "\n",
              "    [theme=dark] .colab-df-convert {\n",
              "      background-color: #3B4455;\n",
              "      fill: #D2E3FC;\n",
              "    }\n",
              "\n",
              "    [theme=dark] .colab-df-convert:hover {\n",
              "      background-color: #434B5C;\n",
              "      box-shadow: 0px 1px 3px 1px rgba(0, 0, 0, 0.15);\n",
              "      filter: drop-shadow(0px 1px 2px rgba(0, 0, 0, 0.3));\n",
              "      fill: #FFFFFF;\n",
              "    }\n",
              "  </style>\n",
              "\n",
              "      <script>\n",
              "        const buttonEl =\n",
              "          document.querySelector('#df-09c9d8b5-81bf-4b44-a9e9-2d1b468fba43 button.colab-df-convert');\n",
              "        buttonEl.style.display =\n",
              "          google.colab.kernel.accessAllowed ? 'block' : 'none';\n",
              "\n",
              "        async function convertToInteractive(key) {\n",
              "          const element = document.querySelector('#df-09c9d8b5-81bf-4b44-a9e9-2d1b468fba43');\n",
              "          const dataTable =\n",
              "            await google.colab.kernel.invokeFunction('convertToInteractive',\n",
              "                                                     [key], {});\n",
              "          if (!dataTable) return;\n",
              "\n",
              "          const docLinkHtml = 'Like what you see? Visit the ' +\n",
              "            '<a target=\"_blank\" href=https://colab.research.google.com/notebooks/data_table.ipynb>data table notebook</a>'\n",
              "            + ' to learn more about interactive tables.';\n",
              "          element.innerHTML = '';\n",
              "          dataTable['output_type'] = 'display_data';\n",
              "          await google.colab.output.renderOutput(dataTable, element);\n",
              "          const docLink = document.createElement('div');\n",
              "          docLink.innerHTML = docLinkHtml;\n",
              "          element.appendChild(docLink);\n",
              "        }\n",
              "      </script>\n",
              "    </div>\n",
              "  </div>\n",
              "  "
            ]
          },
          "metadata": {},
          "execution_count": 9
        }
      ]
    },
    {
      "cell_type": "code",
      "source": [
        "df.head(5)"
      ],
      "metadata": {
        "colab": {
          "base_uri": "https://localhost:8080/",
          "height": 206
        },
        "id": "ZldmE3d0se7y",
        "outputId": "beb38c88-2417-4137-9bf4-65cc543d0084"
      },
      "execution_count": 10,
      "outputs": [
        {
          "output_type": "execute_result",
          "data": {
            "text/plain": [
              "       event_timestamp event_name visit_id  user_id     type  hotel_id\n",
              "0  2019-01-04 00:06:35    booking  01973ce   393224  leisure      3888\n",
              "1  2019-01-04 00:05:04    booking  060ba0b    85204  leisure      6283\n",
              "2  2019-01-04 00:12:10    booking  030b1d5   141511  leisure      3273\n",
              "3  2019-01-04 00:11:00    booking  0671f01   352800  leisure      3810\n",
              "4  2019-01-04 00:17:39    booking  074b640   405479  leisure       331"
            ],
            "text/html": [
              "\n",
              "  <div id=\"df-be81ddcb-70e7-430b-bc6c-f176f9760382\">\n",
              "    <div class=\"colab-df-container\">\n",
              "      <div>\n",
              "<style scoped>\n",
              "    .dataframe tbody tr th:only-of-type {\n",
              "        vertical-align: middle;\n",
              "    }\n",
              "\n",
              "    .dataframe tbody tr th {\n",
              "        vertical-align: top;\n",
              "    }\n",
              "\n",
              "    .dataframe thead th {\n",
              "        text-align: right;\n",
              "    }\n",
              "</style>\n",
              "<table border=\"1\" class=\"dataframe\">\n",
              "  <thead>\n",
              "    <tr style=\"text-align: right;\">\n",
              "      <th></th>\n",
              "      <th>event_timestamp</th>\n",
              "      <th>event_name</th>\n",
              "      <th>visit_id</th>\n",
              "      <th>user_id</th>\n",
              "      <th>type</th>\n",
              "      <th>hotel_id</th>\n",
              "    </tr>\n",
              "  </thead>\n",
              "  <tbody>\n",
              "    <tr>\n",
              "      <th>0</th>\n",
              "      <td>2019-01-04 00:06:35</td>\n",
              "      <td>booking</td>\n",
              "      <td>01973ce</td>\n",
              "      <td>393224</td>\n",
              "      <td>leisure</td>\n",
              "      <td>3888</td>\n",
              "    </tr>\n",
              "    <tr>\n",
              "      <th>1</th>\n",
              "      <td>2019-01-04 00:05:04</td>\n",
              "      <td>booking</td>\n",
              "      <td>060ba0b</td>\n",
              "      <td>85204</td>\n",
              "      <td>leisure</td>\n",
              "      <td>6283</td>\n",
              "    </tr>\n",
              "    <tr>\n",
              "      <th>2</th>\n",
              "      <td>2019-01-04 00:12:10</td>\n",
              "      <td>booking</td>\n",
              "      <td>030b1d5</td>\n",
              "      <td>141511</td>\n",
              "      <td>leisure</td>\n",
              "      <td>3273</td>\n",
              "    </tr>\n",
              "    <tr>\n",
              "      <th>3</th>\n",
              "      <td>2019-01-04 00:11:00</td>\n",
              "      <td>booking</td>\n",
              "      <td>0671f01</td>\n",
              "      <td>352800</td>\n",
              "      <td>leisure</td>\n",
              "      <td>3810</td>\n",
              "    </tr>\n",
              "    <tr>\n",
              "      <th>4</th>\n",
              "      <td>2019-01-04 00:17:39</td>\n",
              "      <td>booking</td>\n",
              "      <td>074b640</td>\n",
              "      <td>405479</td>\n",
              "      <td>leisure</td>\n",
              "      <td>331</td>\n",
              "    </tr>\n",
              "  </tbody>\n",
              "</table>\n",
              "</div>\n",
              "      <button class=\"colab-df-convert\" onclick=\"convertToInteractive('df-be81ddcb-70e7-430b-bc6c-f176f9760382')\"\n",
              "              title=\"Convert this dataframe to an interactive table.\"\n",
              "              style=\"display:none;\">\n",
              "        \n",
              "  <svg xmlns=\"http://www.w3.org/2000/svg\" height=\"24px\"viewBox=\"0 0 24 24\"\n",
              "       width=\"24px\">\n",
              "    <path d=\"M0 0h24v24H0V0z\" fill=\"none\"/>\n",
              "    <path d=\"M18.56 5.44l.94 2.06.94-2.06 2.06-.94-2.06-.94-.94-2.06-.94 2.06-2.06.94zm-11 1L8.5 8.5l.94-2.06 2.06-.94-2.06-.94L8.5 2.5l-.94 2.06-2.06.94zm10 10l.94 2.06.94-2.06 2.06-.94-2.06-.94-.94-2.06-.94 2.06-2.06.94z\"/><path d=\"M17.41 7.96l-1.37-1.37c-.4-.4-.92-.59-1.43-.59-.52 0-1.04.2-1.43.59L10.3 9.45l-7.72 7.72c-.78.78-.78 2.05 0 2.83L4 21.41c.39.39.9.59 1.41.59.51 0 1.02-.2 1.41-.59l7.78-7.78 2.81-2.81c.8-.78.8-2.07 0-2.86zM5.41 20L4 18.59l7.72-7.72 1.47 1.35L5.41 20z\"/>\n",
              "  </svg>\n",
              "      </button>\n",
              "      \n",
              "  <style>\n",
              "    .colab-df-container {\n",
              "      display:flex;\n",
              "      flex-wrap:wrap;\n",
              "      gap: 12px;\n",
              "    }\n",
              "\n",
              "    .colab-df-convert {\n",
              "      background-color: #E8F0FE;\n",
              "      border: none;\n",
              "      border-radius: 50%;\n",
              "      cursor: pointer;\n",
              "      display: none;\n",
              "      fill: #1967D2;\n",
              "      height: 32px;\n",
              "      padding: 0 0 0 0;\n",
              "      width: 32px;\n",
              "    }\n",
              "\n",
              "    .colab-df-convert:hover {\n",
              "      background-color: #E2EBFA;\n",
              "      box-shadow: 0px 1px 2px rgba(60, 64, 67, 0.3), 0px 1px 3px 1px rgba(60, 64, 67, 0.15);\n",
              "      fill: #174EA6;\n",
              "    }\n",
              "\n",
              "    [theme=dark] .colab-df-convert {\n",
              "      background-color: #3B4455;\n",
              "      fill: #D2E3FC;\n",
              "    }\n",
              "\n",
              "    [theme=dark] .colab-df-convert:hover {\n",
              "      background-color: #434B5C;\n",
              "      box-shadow: 0px 1px 3px 1px rgba(0, 0, 0, 0.15);\n",
              "      filter: drop-shadow(0px 1px 2px rgba(0, 0, 0, 0.3));\n",
              "      fill: #FFFFFF;\n",
              "    }\n",
              "  </style>\n",
              "\n",
              "      <script>\n",
              "        const buttonEl =\n",
              "          document.querySelector('#df-be81ddcb-70e7-430b-bc6c-f176f9760382 button.colab-df-convert');\n",
              "        buttonEl.style.display =\n",
              "          google.colab.kernel.accessAllowed ? 'block' : 'none';\n",
              "\n",
              "        async function convertToInteractive(key) {\n",
              "          const element = document.querySelector('#df-be81ddcb-70e7-430b-bc6c-f176f9760382');\n",
              "          const dataTable =\n",
              "            await google.colab.kernel.invokeFunction('convertToInteractive',\n",
              "                                                     [key], {});\n",
              "          if (!dataTable) return;\n",
              "\n",
              "          const docLinkHtml = 'Like what you see? Visit the ' +\n",
              "            '<a target=\"_blank\" href=https://colab.research.google.com/notebooks/data_table.ipynb>data table notebook</a>'\n",
              "            + ' to learn more about interactive tables.';\n",
              "          element.innerHTML = '';\n",
              "          dataTable['output_type'] = 'display_data';\n",
              "          await google.colab.output.renderOutput(dataTable, element);\n",
              "          const docLink = document.createElement('div');\n",
              "          docLink.innerHTML = docLinkHtml;\n",
              "          element.appendChild(docLink);\n",
              "        }\n",
              "      </script>\n",
              "    </div>\n",
              "  </div>\n",
              "  "
            ]
          },
          "metadata": {},
          "execution_count": 10
        }
      ]
    },
    {
      "cell_type": "code",
      "metadata": {
        "id": "F-XraQAvQBn3",
        "colab": {
          "base_uri": "https://localhost:8080/"
        },
        "outputId": "cfdbbb71-bf25-4a25-f71e-0a6b156e99c0"
      },
      "source": [
        "df[df.type == 'business'].count()"
      ],
      "execution_count": 11,
      "outputs": [
        {
          "output_type": "execute_result",
          "data": {
            "text/plain": [
              "event_timestamp    7843\n",
              "event_name         7843\n",
              "visit_id           7843\n",
              "user_id            7843\n",
              "type               7843\n",
              "hotel_id           7843\n",
              "dtype: int64"
            ]
          },
          "metadata": {},
          "execution_count": 11
        }
      ]
    },
    {
      "cell_type": "code",
      "metadata": {
        "id": "WtyphIcQQBn4",
        "colab": {
          "base_uri": "https://localhost:8080/"
        },
        "outputId": "c80f63a7-2e22-4880-daaf-5faadc0db524"
      },
      "source": [
        "sum(df.type == 'business')"
      ],
      "execution_count": 13,
      "outputs": [
        {
          "output_type": "execute_result",
          "data": {
            "text/plain": [
              "7843"
            ]
          },
          "metadata": {},
          "execution_count": 13
        }
      ]
    },
    {
      "cell_type": "code",
      "metadata": {
        "id": "765ptm5dQBn4",
        "colab": {
          "base_uri": "https://localhost:8080/"
        },
        "outputId": "eca0a999-a34d-4f8d-b787-6a0ae68e692e"
      },
      "source": [
        "len(df)"
      ],
      "execution_count": 14,
      "outputs": [
        {
          "output_type": "execute_result",
          "data": {
            "text/plain": [
              "229746"
            ]
          },
          "metadata": {},
          "execution_count": 14
        }
      ]
    },
    {
      "cell_type": "code",
      "metadata": {
        "id": "InuclOPMQBn4",
        "colab": {
          "base_uri": "https://localhost:8080/"
        },
        "outputId": "466b8118-992e-4ccd-ee0e-a13eca663488"
      },
      "source": [
        "sum(df.type == 'business') / len(df)"
      ],
      "execution_count": 15,
      "outputs": [
        {
          "output_type": "execute_result",
          "data": {
            "text/plain": [
              "0.034137699894666286"
            ]
          },
          "metadata": {},
          "execution_count": 15
        }
      ]
    },
    {
      "cell_type": "markdown",
      "metadata": {
        "id": "9vlaMF3SQBn4"
      },
      "source": [
        "Our answer would be around 3.41% business travels."
      ]
    },
    {
      "cell_type": "markdown",
      "metadata": {
        "id": "SFQ1lvr7QBn4"
      },
      "source": [
        "### Is this the correct answer? "
      ]
    },
    {
      "cell_type": "code",
      "metadata": {
        "id": "pLFVq8QtQBn5",
        "colab": {
          "base_uri": "https://localhost:8080/"
        },
        "outputId": "309dcde5-65e9-4c73-fff0-d660f71b1f86"
      },
      "source": [
        "df[df.type == 'business'].user_id"
      ],
      "execution_count": 24,
      "outputs": [
        {
          "output_type": "execute_result",
          "data": {
            "text/plain": [
              "23        197917\n",
              "103       501589\n",
              "109       418723\n",
              "236       524978\n",
              "261       422527\n",
              "           ...  \n",
              "229606    397797\n",
              "229607    146944\n",
              "229666    220242\n",
              "229683    184488\n",
              "229745    333049\n",
              "Name: user_id, Length: 7843, dtype: int64"
            ]
          },
          "metadata": {},
          "execution_count": 24
        }
      ]
    },
    {
      "cell_type": "code",
      "metadata": {
        "id": "5xSkSbb3QBn5",
        "colab": {
          "base_uri": "https://localhost:8080/"
        },
        "outputId": "1d17d00f-e7a8-4691-e2ac-e1bf093db3e8"
      },
      "source": [
        "df[df.type == 'business'].user_id.nunique()"
      ],
      "execution_count": 25,
      "outputs": [
        {
          "output_type": "execute_result",
          "data": {
            "text/plain": [
              "7776"
            ]
          },
          "metadata": {},
          "execution_count": 25
        }
      ]
    },
    {
      "cell_type": "code",
      "metadata": {
        "id": "KA462UP3QBn5",
        "colab": {
          "base_uri": "https://localhost:8080/"
        },
        "outputId": "ccbdc5a4-c86a-4aa7-a983-4ebc15bbf52e"
      },
      "source": [
        "df.user_id.nunique()"
      ],
      "execution_count": 26,
      "outputs": [
        {
          "output_type": "execute_result",
          "data": {
            "text/plain": [
              "184190"
            ]
          },
          "metadata": {},
          "execution_count": 26
        }
      ]
    },
    {
      "cell_type": "code",
      "metadata": {
        "id": "0Kalf1nlQBn5",
        "colab": {
          "base_uri": "https://localhost:8080/"
        },
        "outputId": "9c3c5d3a-0f42-4231-e250-73887ef69266"
      },
      "source": [
        "df[df.type == 'business'].user_id.nunique() / df.user_id.nunique()"
      ],
      "execution_count": 27,
      "outputs": [
        {
          "output_type": "execute_result",
          "data": {
            "text/plain": [
              "0.04221727563928552"
            ]
          },
          "metadata": {},
          "execution_count": 27
        }
      ]
    },
    {
      "cell_type": "markdown",
      "source": [
        "Our answer would be around 4.2% business travels."
      ],
      "metadata": {
        "id": "nAci-lLKfRQP"
      }
    },
    {
      "cell_type": "markdown",
      "metadata": {
        "id": "lXfstFvsQBn5"
      },
      "source": [
        "### Second approach - group by"
      ]
    },
    {
      "cell_type": "code",
      "metadata": {
        "id": "y-FL2MywQBn5",
        "colab": {
          "base_uri": "https://localhost:8080/"
        },
        "outputId": "eb254c09-aa6e-4bce-fe0a-0a1ef85b3cfa"
      },
      "source": [
        "df.groupby('type').user_id.nunique()"
      ],
      "execution_count": 20,
      "outputs": [
        {
          "output_type": "execute_result",
          "data": {
            "text/plain": [
              "type\n",
              "business      7776\n",
              "leisure     179139\n",
              "Name: user_id, dtype: int64"
            ]
          },
          "metadata": {},
          "execution_count": 20
        }
      ]
    },
    {
      "cell_type": "code",
      "metadata": {
        "id": "VR7RBtGgQBn6",
        "colab": {
          "base_uri": "https://localhost:8080/"
        },
        "outputId": "30cfb5b1-712d-46b5-d62e-f9f838b7091f"
      },
      "source": [
        "sum(df.groupby('type').user_id.nunique())"
      ],
      "execution_count": 21,
      "outputs": [
        {
          "output_type": "execute_result",
          "data": {
            "text/plain": [
              "186915"
            ]
          },
          "metadata": {},
          "execution_count": 21
        }
      ]
    },
    {
      "cell_type": "code",
      "metadata": {
        "id": "u83z7JG1QBn6",
        "colab": {
          "base_uri": "https://localhost:8080/"
        },
        "outputId": "94712bc6-6b25-48fa-e1e2-96b14571e566"
      },
      "source": [
        "df.groupby('type').user_id.nunique() / sum(df.groupby('type').user_id.nunique())"
      ],
      "execution_count": 22,
      "outputs": [
        {
          "output_type": "execute_result",
          "data": {
            "text/plain": [
              "type\n",
              "business    0.041602\n",
              "leisure     0.958398\n",
              "Name: user_id, dtype: float64"
            ]
          },
          "metadata": {},
          "execution_count": 22
        }
      ]
    },
    {
      "cell_type": "markdown",
      "source": [
        "Our answer would be around 4.1% business travels and 95.8% leisure travels."
      ],
      "metadata": {
        "id": "-CIk26NAf-UA"
      }
    },
    {
      "cell_type": "code",
      "metadata": {
        "id": "6KXfQUwJQBn6",
        "colab": {
          "base_uri": "https://localhost:8080/"
        },
        "outputId": "267f4951-5554-41da-fea4-ae5b57987619"
      },
      "source": [
        "df.groupby('type').user_id.nunique() / df.user_id.nunique()"
      ],
      "execution_count": 28,
      "outputs": [
        {
          "output_type": "execute_result",
          "data": {
            "text/plain": [
              "type\n",
              "business    0.042217\n",
              "leisure     0.972577\n",
              "Name: user_id, dtype: float64"
            ]
          },
          "metadata": {},
          "execution_count": 28
        }
      ]
    },
    {
      "cell_type": "markdown",
      "metadata": {
        "id": "pct-P9IaQBn6"
      },
      "source": [
        "### Which is correct?"
      ]
    }
  ]
}